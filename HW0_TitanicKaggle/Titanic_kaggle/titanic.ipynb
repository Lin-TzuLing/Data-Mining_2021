{
 "cells": [
  {
   "cell_type": "code",
   "execution_count": 1,
   "metadata": {},
   "outputs": [],
   "source": [
    "# package\n",
    "from sklearn.preprocessing import LabelEncoder\n",
    "from sklearn.feature_selection import RFECV\n",
    "from sklearn.model_selection import cross_val_score, StratifiedKFold, learning_curve, train_test_split, GridSearchCV\n",
    "from sklearn.ensemble import RandomForestClassifier\n",
    "from sklearn.ensemble import RandomForestRegressor\n",
    "import pandas as pd\n",
    "import numpy as np\n",
    "import matplotlib.pyplot as plt\n",
    "import seaborn as sns\n",
    "import warnings\n",
    "warnings.filterwarnings('ignore')\n",
    "# import importlib; importlib.reload(pd)"
   ]
  },
  {
   "cell_type": "code",
   "execution_count": 2,
   "metadata": {},
   "outputs": [],
   "source": [
    "# load data\n",
    "train = pd.read_csv(\"./data/train.csv\")\n",
    "test = pd.read_csv(\"./data/test.csv\")\n",
    "gender = pd.read_csv(\"./data/gender_submission.csv\")\n",
    "# train.info()\n",
    "# 共891個index，沒有滿的就是空值\n",
    "# train空值：Age, Cabin, Embarked\n",
    "# test.info()\n",
    "# 418\n",
    "# test空值：Age, Fare, Cabin\n",
    "data = train.append(test)"
   ]
  },
  {
   "cell_type": "code",
   "execution_count": 3,
   "metadata": {
    "scrolled": false
   },
   "outputs": [
    {
     "data": {
      "text/html": [
       "<div>\n",
       "<style scoped>\n",
       "    .dataframe tbody tr th:only-of-type {\n",
       "        vertical-align: middle;\n",
       "    }\n",
       "\n",
       "    .dataframe tbody tr th {\n",
       "        vertical-align: top;\n",
       "    }\n",
       "\n",
       "    .dataframe thead th {\n",
       "        text-align: right;\n",
       "    }\n",
       "</style>\n",
       "<table border=\"1\" class=\"dataframe\">\n",
       "  <thead>\n",
       "    <tr style=\"text-align: right;\">\n",
       "      <th></th>\n",
       "      <th>Survived</th>\n",
       "    </tr>\n",
       "    <tr>\n",
       "      <th>Sex</th>\n",
       "      <th></th>\n",
       "    </tr>\n",
       "  </thead>\n",
       "  <tbody>\n",
       "    <tr>\n",
       "      <td>female</td>\n",
       "      <td>0.742</td>\n",
       "    </tr>\n",
       "    <tr>\n",
       "      <td>male</td>\n",
       "      <td>0.189</td>\n",
       "    </tr>\n",
       "  </tbody>\n",
       "</table>\n",
       "</div>"
      ],
      "text/plain": [
       "        Survived\n",
       "Sex             \n",
       "female     0.742\n",
       "male       0.189"
      ]
     },
     "metadata": {},
     "output_type": "display_data"
    },
    {
     "data": {
      "image/png": "[encoded data removed]",
      "text/plain": [
       "<Figure size 432x288 with 1 Axes>"
      ]
     },
     "metadata": {
      "needs_background": "light"
     },
     "output_type": "display_data"
    }
   ],
   "source": [
    "#查看資料_性別\n",
    "sns.countplot(data['Sex'], hue=data['Survived'])\n",
    "# plt.show()\n",
    "# 生存人數:女>男\n",
    "\n",
    "survived_sex = data[['Sex','Survived']].groupby(['Sex'], as_index=True).mean().round(3)\n",
    "display(survived_sex)\n",
    "# 生存比例：女=>0.742，男=>0.189"
   ]
  },
  {
   "cell_type": "code",
   "execution_count": 4,
   "metadata": {},
   "outputs": [
    {
     "data": {
      "text/html": [
       "<div>\n",
       "<style scoped>\n",
       "    .dataframe tbody tr th:only-of-type {\n",
       "        vertical-align: middle;\n",
       "    }\n",
       "\n",
       "    .dataframe tbody tr th {\n",
       "        vertical-align: top;\n",
       "    }\n",
       "\n",
       "    .dataframe thead th {\n",
       "        text-align: right;\n",
       "    }\n",
       "</style>\n",
       "<table border=\"1\" class=\"dataframe\">\n",
       "  <thead>\n",
       "    <tr style=\"text-align: right;\">\n",
       "      <th></th>\n",
       "      <th>Survived</th>\n",
       "    </tr>\n",
       "    <tr>\n",
       "      <th>Pclass</th>\n",
       "      <th></th>\n",
       "    </tr>\n",
       "  </thead>\n",
       "  <tbody>\n",
       "    <tr>\n",
       "      <td>1</td>\n",
       "      <td>0.630</td>\n",
       "    </tr>\n",
       "    <tr>\n",
       "      <td>2</td>\n",
       "      <td>0.473</td>\n",
       "    </tr>\n",
       "    <tr>\n",
       "      <td>3</td>\n",
       "      <td>0.242</td>\n",
       "    </tr>\n",
       "  </tbody>\n",
       "</table>\n",
       "</div>"
      ],
      "text/plain": [
       "        Survived\n",
       "Pclass          \n",
       "1          0.630\n",
       "2          0.473\n",
       "3          0.242"
      ]
     },
     "metadata": {},
     "output_type": "display_data"
    },
    {
     "data": {
      "image/png": "[encoded data removed]",
      "text/plain": [
       "<Figure size 432x288 with 1 Axes>"
      ]
     },
     "metadata": {
      "needs_background": "light"
     },
     "output_type": "display_data"
    }
   ],
   "source": [
    "#查看資料_艙等\n",
    "sns.countplot(data['Pclass'], hue=data['Survived'])\n",
    "# plt.show()\n",
    "# 生存人數:1>2>3\n",
    "\n",
    "survived_pclass = data[['Pclass','Survived']].groupby(['Pclass'], as_index=True).mean().round(3)\n",
    "display(survived_pclass)\n",
    "# 生存比例：1=>0.63，2=>0.473，3=>0.242"
   ]
  },
  {
   "cell_type": "code",
   "execution_count": 5,
   "metadata": {},
   "outputs": [
    {
     "data": {
      "text/plain": [
       "Index(['Age', 'Cabin', 'Embarked', 'Fare', 'Name', 'Parch', 'PassengerId',\n",
       "       'Pclass', 'Sex', 'SibSp', 'Survived', 'Ticket', 'Sex_code'],\n",
       "      dtype='object')"
      ]
     },
     "execution_count": 5,
     "metadata": {},
     "output_type": "execute_result"
    }
   ],
   "source": [
    "# 把性別變成0/1編碼\n",
    "data['Sex_code'] = data['Sex'].map({'female':int(1), 'male':int(0)})\n",
    "train['Sex_code'] = train['Sex'].map({'female':int(1), 'male':int(0)})\n",
    "test['Sex_code'] = test['Sex'].map({'female':int(1), 'male':int(0)})\n",
    "# print(train.head())\n",
    "data.columns"
   ]
  },
  {
   "cell_type": "code",
   "execution_count": 6,
   "metadata": {},
   "outputs": [],
   "source": [
    "# x = train.drop(labels=['Survived','PassengerId'],axis=1)\n",
    "x_train = train\n",
    "y = train['Survived']\n",
    "x_test = test"
   ]
  },
  {
   "cell_type": "code",
   "execution_count": 7,
   "metadata": {},
   "outputs": [
    {
     "name": "stdout",
     "output_type": "stream",
     "text": [
      "base oob score = 0.7867564534231201\n"
     ]
    }
   ],
   "source": [
    "# CASE 1\n",
    "\n",
    "# 特徵使用：性別\n",
    "base = ['Sex_code']\n",
    "# random_state：建樹資料的隨機性, n_estimators：樹數量, min_samples_split：節點資料數\n",
    "base_model = RandomForestClassifier(random_state=2, n_estimators=250, min_samples_split=20, oob_score=True)\n",
    "base_model.fit(x_train[base],y)\n",
    "print('base oob score = {}'.format(base_model.oob_score_))\n",
    "ans_1 = base_model.predict(x_test[base])\n",
    "# display(ans_1)\n",
    "\n",
    "# print(len(test.PassengerId))\n",
    "# print(len(ans_1))\n",
    "pd.DataFrame({'PassengerId':test.PassengerId, 'Survived':ans_1}).set_index('PassengerId').to_csv('./result/sexcode.csv')"
   ]
  },
  {
   "cell_type": "code",
   "execution_count": 8,
   "metadata": {},
   "outputs": [
    {
     "name": "stdout",
     "output_type": "stream",
     "text": [
      "base oob score = 0.7317620650953984\n",
      "預測結果 CASE1 = CASE2\n"
     ]
    }
   ],
   "source": [
    "# CASE 2\n",
    "\n",
    "# 特徵使用：性別、艙等\n",
    "base1 = ['Sex_code','Pclass']\n",
    "base_model.fit(x_train[base1],y)\n",
    "print('base oob score = {}'.format(base_model.oob_score_))\n",
    "ans_2 = base_model.predict(x_test[base1])\n",
    "\n",
    "if ans_1.all() == ans_2.all():\n",
    "    print('預測結果 CASE1 = CASE2')\n",
    "\n",
    "pd.DataFrame({'PassengerId':test.PassengerId, 'Survived':ans_1}).set_index('PassengerId').to_csv('./result/sexcode_pclass.csv')"
   ]
  },
  {
   "cell_type": "code",
   "execution_count": 9,
   "metadata": {},
   "outputs": [
    {
     "name": "stdout",
     "output_type": "stream",
     "text": [
      "max fare = 512.3292\n",
      "min fare = 0.0\n",
      "mean fare = 33.2954792813456\n",
      "std fare = 51.75866823917414\n",
      "median fare = 14.4542\n"
     ]
    },
    {
     "data": {
      "text/html": [
       "<div>\n",
       "<style scoped>\n",
       "    .dataframe tbody tr th:only-of-type {\n",
       "        vertical-align: middle;\n",
       "    }\n",
       "\n",
       "    .dataframe tbody tr th {\n",
       "        vertical-align: top;\n",
       "    }\n",
       "\n",
       "    .dataframe thead tr th {\n",
       "        text-align: left;\n",
       "    }\n",
       "\n",
       "    .dataframe thead tr:last-of-type th {\n",
       "        text-align: right;\n",
       "    }\n",
       "</style>\n",
       "<table border=\"1\" class=\"dataframe\">\n",
       "  <thead>\n",
       "    <tr>\n",
       "      <th></th>\n",
       "      <th colspan=\"2\" halign=\"left\">Fare</th>\n",
       "    </tr>\n",
       "    <tr>\n",
       "      <th>Survived</th>\n",
       "      <th>0.0</th>\n",
       "      <th>1.0</th>\n",
       "    </tr>\n",
       "    <tr>\n",
       "      <th>Pclass</th>\n",
       "      <th></th>\n",
       "      <th></th>\n",
       "    </tr>\n",
       "  </thead>\n",
       "  <tbody>\n",
       "    <tr>\n",
       "      <td>1</td>\n",
       "      <td>44.75</td>\n",
       "      <td>77.958</td>\n",
       "    </tr>\n",
       "    <tr>\n",
       "      <td>2</td>\n",
       "      <td>13.00</td>\n",
       "      <td>21.000</td>\n",
       "    </tr>\n",
       "    <tr>\n",
       "      <td>3</td>\n",
       "      <td>8.05</td>\n",
       "      <td>8.517</td>\n",
       "    </tr>\n",
       "  </tbody>\n",
       "</table>\n",
       "</div>"
      ],
      "text/plain": [
       "           Fare        \n",
       "Survived    0.0     1.0\n",
       "Pclass                 \n",
       "1         44.75  77.958\n",
       "2         13.00  21.000\n",
       "3          8.05   8.517"
      ]
     },
     "execution_count": 9,
     "metadata": {},
     "output_type": "execute_result"
    },
    {
     "data": {
      "image/png": "[encoded data removed]",
      "text/plain": [
       "<Figure size 1296x504 with 1 Axes>"
      ]
     },
     "metadata": {
      "needs_background": "light"
     },
     "output_type": "display_data"
    }
   ],
   "source": [
    "#查看資料_票價\n",
    "print('max fare = {}'.format(data['Fare'].max()))\n",
    "print('min fare = {}'.format(data['Fare'].min()))\n",
    "print('mean fare = {}'.format(data['Fare'].mean()))\n",
    "print('std fare = {}'.format(data['Fare'].std()))\n",
    "print('median fare = {}'.format(data['Fare'].median()))\n",
    "\n",
    "\n",
    "# sns.countplot(data['Fare'], hue=data['Survived'])\n",
    "survived_fare = data[['Fare','Survived']].groupby(['Fare'], as_index=True).mean().round(3)\n",
    "# display(survived_fare.head())\n",
    "\n",
    "# 票價差異很大，取log解決\n",
    "fig, ax = plt.subplots(figsize=(18,7))\n",
    "data['Log_Fare'] = (data['Fare']+1).map(lambda x: np.log10(x))\n",
    "# data['Log_Fare'].min()\n",
    "sns.boxplot(y='Pclass', x='Log_Fare', hue='Survived', data=data, orient='h', ax=ax, palette='Set3' )\n",
    "pd.pivot_table(data, values=['Fare'], index=['Pclass'], columns=['Survived'], aggfunc='median').round(3)"
   ]
  },
  {
   "cell_type": "code",
   "execution_count": 10,
   "metadata": {},
   "outputs": [
    {
     "data": {
      "text/plain": [
       "0      0\n",
       "1      3\n",
       "2      1\n",
       "3      3\n",
       "4      1\n",
       "      ..\n",
       "413    1\n",
       "414    3\n",
       "415    0\n",
       "416    1\n",
       "417    2\n",
       "Name: Fare_Code_4, Length: 1309, dtype: int32"
      ]
     },
     "metadata": {},
     "output_type": "display_data"
    }
   ],
   "source": [
    "# Fare資料處理\n",
    "data['Fare'] = data['Fare'].fillna(data['Fare'].median())\n",
    "\n",
    "# 切分票價區間\n",
    "# 區間太少：區間資料平均後無法看出差異\n",
    "# 區間太多：資料差異放大，造成overfitting\n",
    "# qcut：分位數\n",
    "data['Fare_bin_4'] = pd.qcut(data['Fare'],4)\n",
    "data['Fare_bin_5'] = pd.qcut(data['Fare'],5)\n",
    "data['Fare_bin_6'] = pd.qcut(data['Fare'],6)\n",
    "# display(data['Fare_bin_4'])\n",
    "# display(data['Fare_bin_5'])\n",
    "\n",
    "# LabelEncoder：把每個類別 mapping 到某個整數，不會增加新欄位\n",
    "label = LabelEncoder()\n",
    "data['Fare_Code_4'] = label.fit_transform(data['Fare_bin_4'])\n",
    "data['Fare_Code_5'] = label.fit_transform(data['Fare_bin_5'])\n",
    "data['Fare_Code_6'] = label.fit_transform(data['Fare_bin_6'])\n",
    "display(data['Fare_Code_4'])"
   ]
  },
  {
   "cell_type": "code",
   "execution_count": 37,
   "metadata": {},
   "outputs": [
    {
     "data": {
      "text/html": [
       "<th style=\"text-align:center\"><td style=\"vertical-align:top\"><h2></h2><table style=\"display:inline\" border=\"1\" class=\"dataframe\">\n",
       "  <thead>\n",
       "    <tr style=\"text-align: right;\">\n",
       "      <th>Pclass</th>\n",
       "      <th>1</th>\n",
       "      <th>2</th>\n",
       "      <th>3</th>\n",
       "    </tr>\n",
       "    <tr>\n",
       "      <th>Fare_bin_4</th>\n",
       "      <th></th>\n",
       "      <th></th>\n",
       "      <th></th>\n",
       "    </tr>\n",
       "  </thead>\n",
       "  <tbody>\n",
       "    <tr>\n",
       "      <th>(-0.001, 7.896]</th>\n",
       "      <td>8</td>\n",
       "      <td>6</td>\n",
       "      <td>323</td>\n",
       "    </tr>\n",
       "    <tr>\n",
       "      <th>(7.896, 14.454]</th>\n",
       "      <td>0</td>\n",
       "      <td>128</td>\n",
       "      <td>193</td>\n",
       "    </tr>\n",
       "    <tr>\n",
       "      <th>(14.454, 31.275]</th>\n",
       "      <td>77</td>\n",
       "      <td>104</td>\n",
       "      <td>147</td>\n",
       "    </tr>\n",
       "    <tr>\n",
       "      <th>(31.275, 512.329]</th>\n",
       "      <td>238</td>\n",
       "      <td>39</td>\n",
       "      <td>46</td>\n",
       "    </tr>\n",
       "  </tbody>\n",
       "</table style=\"display:inline\"></td></th><th style=\"text-align:center\"><td style=\"vertical-align:top\"><h2></h2><table style=\"display:inline\" border=\"1\" class=\"dataframe\">\n",
       "  <thead>\n",
       "    <tr style=\"text-align: right;\">\n",
       "      <th>Pclass</th>\n",
       "      <th>1</th>\n",
       "      <th>2</th>\n",
       "      <th>3</th>\n",
       "    </tr>\n",
       "    <tr>\n",
       "      <th>Fare_bin_5</th>\n",
       "      <th></th>\n",
       "      <th></th>\n",
       "      <th></th>\n",
       "    </tr>\n",
       "  </thead>\n",
       "  <tbody>\n",
       "    <tr>\n",
       "      <th>(-0.001, 7.854]</th>\n",
       "      <td>8</td>\n",
       "      <td>6</td>\n",
       "      <td>261</td>\n",
       "    </tr>\n",
       "    <tr>\n",
       "      <th>(7.854, 10.5]</th>\n",
       "      <td>0</td>\n",
       "      <td>36</td>\n",
       "      <td>218</td>\n",
       "    </tr>\n",
       "    <tr>\n",
       "      <th>(10.5, 21.558]</th>\n",
       "      <td>0</td>\n",
       "      <td>124</td>\n",
       "      <td>132</td>\n",
       "    </tr>\n",
       "    <tr>\n",
       "      <th>(21.558, 41.579]</th>\n",
       "      <td>95</td>\n",
       "      <td>99</td>\n",
       "      <td>71</td>\n",
       "    </tr>\n",
       "    <tr>\n",
       "      <th>(41.579, 512.329]</th>\n",
       "      <td>220</td>\n",
       "      <td>12</td>\n",
       "      <td>27</td>\n",
       "    </tr>\n",
       "  </tbody>\n",
       "</table style=\"display:inline\"></td></th><th style=\"text-align:center\"><td style=\"vertical-align:top\"><h2></h2><table style=\"display:inline\" border=\"1\" class=\"dataframe\">\n",
       "  <thead>\n",
       "    <tr style=\"text-align: right;\">\n",
       "      <th>Pclass</th>\n",
       "      <th>1</th>\n",
       "      <th>2</th>\n",
       "      <th>3</th>\n",
       "    </tr>\n",
       "    <tr>\n",
       "      <th>Fare_bin_6</th>\n",
       "      <th></th>\n",
       "      <th></th>\n",
       "      <th></th>\n",
       "    </tr>\n",
       "  </thead>\n",
       "  <tbody>\n",
       "    <tr>\n",
       "      <th>(-0.001, 7.775]</th>\n",
       "      <td>8</td>\n",
       "      <td>6</td>\n",
       "      <td>222</td>\n",
       "    </tr>\n",
       "    <tr>\n",
       "      <th>(7.775, 8.662]</th>\n",
       "      <td>0</td>\n",
       "      <td>0</td>\n",
       "      <td>218</td>\n",
       "    </tr>\n",
       "    <tr>\n",
       "      <th>(8.662, 14.454]</th>\n",
       "      <td>0</td>\n",
       "      <td>128</td>\n",
       "      <td>76</td>\n",
       "    </tr>\n",
       "    <tr>\n",
       "      <th>(14.454, 26.0]</th>\n",
       "      <td>14</td>\n",
       "      <td>83</td>\n",
       "      <td>128</td>\n",
       "    </tr>\n",
       "    <tr>\n",
       "      <th>(26.0, 53.1]</th>\n",
       "      <td>118</td>\n",
       "      <td>48</td>\n",
       "      <td>46</td>\n",
       "    </tr>\n",
       "    <tr>\n",
       "      <th>(53.1, 512.329]</th>\n",
       "      <td>183</td>\n",
       "      <td>12</td>\n",
       "      <td>19</td>\n",
       "    </tr>\n",
       "  </tbody>\n",
       "</table style=\"display:inline\"></td></th>"
      ]
     },
     "metadata": {},
     "output_type": "display_data"
    },
    {
     "data": {
      "image/png": "[encoded data removed]",
      "text/plain": [
       "<Figure size 432x288 with 3 Axes>"
      ]
     },
     "metadata": {
      "needs_background": "light"
     },
     "output_type": "display_data"
    }
   ],
   "source": [
    "\n",
    "# cross tab\n",
    "df_4 = pd.crosstab(data['Fare_bin_4'], data['Pclass'])\n",
    "df_5 = pd.crosstab(data['Fare_bin_5'], data['Pclass'])\n",
    "df_6 = pd.crosstab(data['Fare_bin_6'], data['Pclass'])\n",
    "\n",
    "from IPython.display import display_html\n",
    "from itertools import chain,cycle\n",
    "def display_side_by_side(*args,titles=cycle([''])):\n",
    "    html_str=''\n",
    "    for df,title in zip(args, chain(titles,cycle(['</br>'])) ):\n",
    "        html_str+='<th style=\"text-align:center\"><td style=\"vertical-align:top\">'\n",
    "        html_str+=f'<h2>{title}</h2>'\n",
    "        html_str+=df.to_html().replace('table','table style=\"display:inline\"')\n",
    "        html_str+='</td></th>'\n",
    "    display_html(html_str,raw=True)\n",
    "display_side_by_side(df_4,df_5,df_6)\n",
    "\n",
    "# plot\n",
    "fig, [ax1,ax2,ax3] = plt.subplots(1, 3, sharey=True)\n",
    "# fig.set_figwidth(18)\n",
    "for axi in [ax1,ax2,ax3]:\n",
    "    axi.axhline(0.5,linestyle='dashed',c='black',alpha=0.3)\n",
    "g1 = sns.factorplot(x='Fare_Code_4', y='Survived', data=data, kind='bar', ax=ax1)\n",
    "g2 = sns.factorplot(x='Fare_Code_5', y='Survived', data=data, kind='bar', ax=ax2)\n",
    "g3 = sns.factorplot(x='Fare_Code_6', y='Survived', data=data, kind='bar', ax=ax3)\n",
    "plt.close(g1.fig)\n",
    "plt.close(g2.fig)\n",
    "plt.close(g3.fig)"
   ]
  },
  {
   "cell_type": "code",
   "execution_count": 38,
   "metadata": {},
   "outputs": [
    {
     "data": {
      "text/plain": [
       "Index(['Age', 'Cabin', 'Embarked', 'Fare', 'Name', 'Parch', 'Pclass', 'Sex',\n",
       "       'SibSp', 'Ticket', 'Sex_code', 'Log_Fare', 'Fare_bin_4', 'Fare_bin_5',\n",
       "       'Fare_bin_6', 'Fare_Code_4', 'Fare_Code_5', 'Fare_Code_6'],\n",
       "      dtype='object')"
      ]
     },
     "execution_count": 38,
     "metadata": {},
     "output_type": "execute_result"
    }
   ],
   "source": [
    "x_train = data[:len(train)]\n",
    "y = x_train['Survived']\n",
    "x_test = data[len(train):]\n",
    "x_train = x_train.drop(labels=['Survived','PassengerId'],axis=1)\n",
    "x_train.columns\n",
    "\n",
    "# x_train['Sex_Code'] = x_train['Sex'].map({'female':int(1), 'male':int(0)})\n",
    "# x_test['Sex_Code'] = x_test['Sex'].map({'female':int(1), 'male':int(0)})\n",
    "\n",
    "# display(x_train.columns)\n",
    "# display(x_test.columns)\n",
    "# y = train.Survived\n",
    "# display(y.head())"
   ]
  },
  {
   "cell_type": "code",
   "execution_count": 39,
   "metadata": {},
   "outputs": [
    {
     "name": "stdout",
     "output_type": "stream",
     "text": [
      "[ True  True  True  True  True]\n",
      "[1 1 1 1 1]\n",
      "[0.78669816 0.77333986 0.79347747 0.79355295 0.80143088]\n"
     ]
    }
   ],
   "source": [
    "# 選擇切分特徵的區間數\n",
    "compare = ['Sex_code', 'Pclass', 'Fare_Code_4', 'Fare_Code_5', 'Fare_Code_6']\n",
    "# RFECV使用交叉驗證來選擇有最好準確率的訓練特徵數目。而交叉驗證也可以幫助我們避免訓練時造成過度訓練(overfitting)的現象\n",
    "selector = RFECV(RandomForestClassifier(n_estimators=250, min_samples_split=20,), cv=10, n_jobs=-1)\n",
    "selector.fit(x_train[compare], y)\n",
    "# support：是否保留特徵，ranking：特徵重要程度排名\n",
    "print(selector.support_)\n",
    "print(selector.ranking_)\n",
    "print(selector.grid_scores_)\n",
    "\n",
    "# 6區間的準確率最好，但這裡沒有考慮到模型的random_state以及Cross-Validation切分的方式"
   ]
  },
  {
   "cell_type": "code",
   "execution_count": 40,
   "metadata": {},
   "outputs": [],
   "source": [
    "# 進行CV實驗\n",
    "\n",
    "score_b4, score_b5, score_b6 = [], [], []\n",
    "seeds=10\n",
    "for i in range(seeds):\n",
    "    \n",
    "    # StratifiedKFold：K堆疊(Fold)的交叉驗證。將資料分為 K堆，一堆作為預測用，剩下的(K-1)堆則用來訓練，\n",
    "    # 經過計算後，再以另外一堆作為預測，重複K次。\n",
    "    diff_cv = StratifiedKFold(n_splits=10, shuffle=True, random_state=i)\n",
    "    \n",
    "    # cv: 若無輸入，預設為3-fold的交叉驗證。輸入整數i，則做i-fold交叉驗證。若為物件，則以該物件做為交叉驗證產生器。\n",
    "    selector = RFECV(RandomForestClassifier(random_state=i, n_estimators=250, min_samples_split=20,), cv=diff_cv, n_jobs=-1)\n",
    "    selector.fit(x_train[compare], y)\n",
    "    \n",
    "    # gridscores: 從最有影響力的特徵開始加入，計算使用多少個特徵對應得到的準確率。\n",
    "    score_b4.append(selector.grid_scores_[2])\n",
    "    score_b5.append(selector.grid_scores_[3])\n",
    "    score_b6.append(selector.grid_scores_[4])"
   ]
  },
  {
   "cell_type": "code",
   "execution_count": 55,
   "metadata": {},
   "outputs": [
    {
     "data": {
      "text/plain": [
       "<matplotlib.legend.Legend at 0x26f472b5438>"
      ]
     },
     "execution_count": 55,
     "metadata": {},
     "output_type": "execute_result"
    },
    {
     "data": {
      "image/png": "[encoded data removed]",
      "text/plain": [
       "<Figure size 1080x432 with 1 Axes>"
      ]
     },
     "metadata": {
      "needs_background": "light"
     },
     "output_type": "display_data"
    }
   ],
   "source": [
    "# np.array\n",
    "score_list = [score_b4, score_b5, score_b6]\n",
    "for item in score_list:\n",
    "    item = np.array(item*100)\n",
    "\n",
    "# print(len(score_b4))    \n",
    "# print(len(score_b5))    \n",
    "\n",
    "    \n",
    "# 作圖看實驗結果\n",
    "fig = plt.figure(figsize=(15,6))\n",
    "ax = plt.gca()\n",
    "ax.plot(range(seeds), score_b4, '-ok', label='bin 4')\n",
    "ax.plot(range(seeds), score_b5, '-og', label='bin 5')\n",
    "ax.plot(range(seeds), score_b6, '-ob', label='bin 6')\n",
    "\n",
    "# display(ax)\n",
    "ax.set_xlabel('seed #', fontsize='14')\n",
    "ax.set_ylabel('accuracy', fontsize='14')\n",
    "ax.set_ylim(0.783,0.815)\n",
    "plt.legend(fontsize=14,loc='upper right')"
   ]
  },
  {
   "cell_type": "code",
   "execution_count": 42,
   "metadata": {},
   "outputs": [
    {
     "name": "stdout",
     "output_type": "stream",
     "text": [
      "b4 oob score = 0.8058\n",
      "b5 oob score = 0.8103\n",
      "b6 oob score = 0.8013\n"
     ]
    }
   ],
   "source": [
    "# b6 > b5 > b4 (原使用性別、艙等的模型，另外再加入票價特徵)\n",
    "b4 = ['Sex_code', 'Pclass', 'Fare_Code_4']\n",
    "b5 = ['Sex_code', 'Pclass', 'Fare_Code_5']\n",
    "b6 = ['Sex_code', 'Pclass', 'Fare_Code_6']\n",
    "\n",
    "b4_Model = RandomForestClassifier(random_state=2, n_estimators=250, min_samples_split=20, oob_score=True)\n",
    "b4_Model.fit(x_train[b4], y)\n",
    "ans_b4 = b4_Model.predict(x_test[b4])\n",
    "print('b4 oob score = {}'.format(b4_Model.oob_score_.round(4)))\n",
    "\n",
    "b5_Model = RandomForestClassifier(random_state=2, n_estimators=250, min_samples_split=20, oob_score=True)\n",
    "b5_Model.fit(x_train[b5], y)\n",
    "ans_b5 = b5_Model.predict(x_test[b5])\n",
    "print('b5 oob score = {}'.format(b5_Model.oob_score_.round(4)))\n",
    "\n",
    "b6_Model = RandomForestClassifier(random_state=2, n_estimators=250, min_samples_split=20, oob_score=True)\n",
    "b6_Model.fit(x_train[b6], y)\n",
    "ans_b6 = b6_Model.predict(x_test[b6])\n",
    "print('b6 oob score = {}'.format(b6_Model.oob_score_.round(4)))"
   ]
  },
  {
   "cell_type": "code",
   "execution_count": 43,
   "metadata": {},
   "outputs": [],
   "source": [
    "# display(ans_1)\n",
    "# display(f4)\n",
    "# display(ans_b4)\n",
    "# display(type(ans_b4))\n",
    "# display(type(ans_1))\n",
    "# display(type(ans_b4))\n",
    "# a1 = pd.DataFrame({'PassengerId':test.PassengerId, 'Survived':ans_1}).set_index('PassengerId')\n",
    "# display(a1)\n",
    "\n",
    "# 記得輸出要是整數(不然submit score=0)\n",
    "ans_b4 = ans_b4.astype(int) \n",
    "ans_b5 = ans_b5.astype(int) \n",
    "ans_b6 = ans_b6.astype(int) \n",
    "\n",
    "pd.DataFrame({'PassengerId':test.PassengerId, 'Survived':ans_b4}).set_index('PassengerId').to_csv('./result/sexcode_pclass_fareb4.csv')\n",
    "pd.DataFrame({'PassengerId':test.PassengerId, 'Survived':ans_b5}).set_index('PassengerId').to_csv('./result/sexcode_pclass_fareb5.csv')\n",
    "pd.DataFrame({'PassengerId':test.PassengerId, 'Survived':ans_b6}).set_index('PassengerId').to_csv('./result/sexcode_pclass_fareb6.csv')"
   ]
  },
  {
   "cell_type": "code",
   "execution_count": 44,
   "metadata": {},
   "outputs": [
    {
     "name": "stdout",
     "output_type": "stream",
     "text": [
      "596\n",
      "127\n",
      "469\n"
     ]
    }
   ],
   "source": [
    "# 票號(相同船票：家人(familysize>1)或朋友(familysize=1)，可能一起活或喪命)\n",
    "x_train['Ticket'].describe()\n",
    "\n",
    "# family size = sib + parch\n",
    "data['Family_size'] = data['SibSp'] + data['Parch'] + 1\n",
    "\n",
    "deplicate_ticket = []\n",
    "for tk_no in data.Ticket.unique():\n",
    "    # 票號和票價都相同     \n",
    "    tmp = data.loc[data.Ticket==tk_no, 'Fare']\n",
    "    if tmp.count() > 1:\n",
    "        deplicate_ticket.append(data.loc[data.Ticket==tk_no,['Name','Age','Ticket', 'Fare', 'Cabin', 'Family_size', 'Survived']])\n",
    "# display(pd.concat(deplicate_ticket))     \n",
    "deplicate_ticket = pd.concat(deplicate_ticket)\n",
    "deplicate_ticket.head(10)\n",
    "\n",
    "print(len(deplicate_ticket))\n",
    "# family\n",
    "print(len(deplicate_ticket[deplicate_ticket.Family_size==1]))\n",
    "# friend\n",
    "print(len(deplicate_ticket[deplicate_ticket.Family_size>1]))"
   ]
  },
  {
   "cell_type": "code",
   "execution_count": 45,
   "metadata": {},
   "outputs": [
    {
     "name": "stdout",
     "output_type": "stream",
     "text": [
      "friends = 89\n",
      "family = 321\n"
     ]
    }
   ],
   "source": [
    "friend = deplicate_ticket.loc[(deplicate_ticket.Family_size==1) & (deplicate_ticket.Survived.notnull())]\n",
    "family = deplicate_ticket.loc[(deplicate_ticket.Family_size>1) & (deplicate_ticket.Survived.notnull())]\n",
    "# display(friend)\n",
    "# display(family)\n",
    "print('friends = {}'.format(len(friend)))\n",
    "print('family = {}'.format(len(family)))"
   ]
  },
  {
   "cell_type": "code",
   "execution_count": 46,
   "metadata": {
    "scrolled": true
   },
   "outputs": [
    {
     "data": {
      "text/plain": [
       "count    1309.000000\n",
       "mean        0.535141\n",
       "std         0.305885\n",
       "min         0.000000\n",
       "25%         0.500000\n",
       "50%         0.500000\n",
       "75%         0.500000\n",
       "max         1.000000\n",
       "Name: connect_survived, dtype: float64"
      ]
     },
     "execution_count": 46,
     "metadata": {},
     "output_type": "execute_result"
    }
   ],
   "source": [
    "# 建立新特徵(朋友和家人活下來的數量)\n",
    "data['connect_survived'] = 0.5\n",
    "# 同樣票號群組中，有人生還為1，無人生還為0\n",
    "data_groupbytk = data.groupby('Ticket')\n",
    "# data_groupbytk.agg({'Survived':'max'}).fillna(0.5)\n",
    "\n",
    "# iterate over each group\n",
    "for group_idx, group_data in data_groupbytk:\n",
    "    # 有朋友or家人     \n",
    "    if len(group_data) > 1:\n",
    "        for row_idx, row in group_data.iterrows():\n",
    "            # 除了自己以外的團體成員             \n",
    "            others = group_data.drop(row_idx)\n",
    "            fill_max = others['Survived'].max()\n",
    "            #  fill_min = others['Survived'].min()\n",
    "            passid = row['PassengerId']\n",
    "            #  print('{} , {}'.format(fill_max, fill_min))\n",
    "            #  print(row_idx)\n",
    "            if fill_max == 1.0:\n",
    "                data.loc[data['PassengerId']==passid, 'connect_survived'] = 1\n",
    "                # data.loc[row_idx, 'connect_survived'] = 1\n",
    "            elif fill_max == 0.0:\n",
    "                data.loc[data['PassengerId']==passid, 'connect_survived'] = 0\n",
    "                # data.loc[row_idx, 'connect_survived'] = 0\n",
    "            # 如果nan算不出fill_max => 維持原本的0.5          dds\n",
    "data['connect_survived'].describe()"
   ]
  },
  {
   "cell_type": "code",
   "execution_count": 47,
   "metadata": {},
   "outputs": [
    {
     "name": "stdout",
     "output_type": "stream",
     "text": [
      "596\n",
      "496\n"
     ]
    },
    {
     "data": {
      "text/plain": [
       "connect_survived\n",
       "0.0    0.225352\n",
       "0.5    0.297989\n",
       "1.0    0.727723\n",
       "Name: Survived, dtype: float64"
      ]
     },
     "execution_count": 47,
     "metadata": {},
     "output_type": "execute_result"
    }
   ],
   "source": [
    "print(len(deplicate_ticket))\n",
    "print(data[data['connect_survived']!=0.5].shape[0])\n",
    "# 有同行人生還，自己生還的可能性也比較大\n",
    "data.groupby('connect_survived')['Survived'].mean()"
   ]
  },
  {
   "cell_type": "code",
   "execution_count": 48,
   "metadata": {},
   "outputs": [
    {
     "data": {
      "text/plain": [
       "connect_survived\n",
       "0.0    0.225352\n",
       "0.5    0.297989\n",
       "1.0    0.727723\n",
       "Name: Survived, dtype: float64"
      ]
     },
     "execution_count": 48,
     "metadata": {},
     "output_type": "execute_result"
    }
   ],
   "source": [
    "# 有同行人生還，自己生還的可能性也比較大\n",
    "data.groupby('connect_survived')['Survived'].mean()"
   ]
  },
  {
   "cell_type": "code",
   "execution_count": 49,
   "metadata": {},
   "outputs": [
    {
     "name": "stdout",
     "output_type": "stream",
     "text": [
      "connect oob score = 0.8204\n"
     ]
    }
   ],
   "source": [
    "x_train = data[:len(train)]\n",
    "x_test = data[len(train):]\n",
    "y = x_train['Survived']\n",
    "x_train = x_train.drop(labels=['Survived','PassengerId'],axis=1)\n",
    "# x_train.columns\n",
    "\n",
    "connect = ['Sex_code', 'Pclass', 'Fare_Code_5', 'connect_survived']\n",
    "\n",
    "connect_model = RandomForestClassifier(random_state=2, n_estimators=250, min_samples_split=20, oob_score=True)\n",
    "connect_model.fit(x_train[connect], y)\n",
    "ans_connect = connect_model.predict(x_test[connect])\n",
    "print('connect oob score = {}'.format(connect_model.oob_score_.round(4)))\n",
    "\n",
    "ans_connect = ans_connect.astype(int) \n",
    "pd.DataFrame({'PassengerId':test.PassengerId, 'Survived':ans_connect}).set_index('PassengerId').to_csv('./result/sexcode_pclass_fareb5_connect.csv')\n"
   ]
  },
  {
   "cell_type": "code",
   "execution_count": 50,
   "metadata": {},
   "outputs": [
    {
     "data": {
      "text/html": [
       "<div>\n",
       "<style scoped>\n",
       "    .dataframe tbody tr th:only-of-type {\n",
       "        vertical-align: middle;\n",
       "    }\n",
       "\n",
       "    .dataframe tbody tr th {\n",
       "        vertical-align: top;\n",
       "    }\n",
       "\n",
       "    .dataframe thead th {\n",
       "        text-align: right;\n",
       "    }\n",
       "</style>\n",
       "<table border=\"1\" class=\"dataframe\">\n",
       "  <thead>\n",
       "    <tr style=\"text-align: right;\">\n",
       "      <th>Sex</th>\n",
       "      <th>female</th>\n",
       "      <th>male</th>\n",
       "      <th>All</th>\n",
       "    </tr>\n",
       "    <tr>\n",
       "      <th>has_age</th>\n",
       "      <th></th>\n",
       "      <th></th>\n",
       "      <th></th>\n",
       "    </tr>\n",
       "  </thead>\n",
       "  <tbody>\n",
       "    <tr>\n",
       "      <td>0</td>\n",
       "      <td>78</td>\n",
       "      <td>185</td>\n",
       "      <td>263</td>\n",
       "    </tr>\n",
       "    <tr>\n",
       "      <td>1</td>\n",
       "      <td>388</td>\n",
       "      <td>658</td>\n",
       "      <td>1046</td>\n",
       "    </tr>\n",
       "    <tr>\n",
       "      <td>All</td>\n",
       "      <td>466</td>\n",
       "      <td>843</td>\n",
       "      <td>1309</td>\n",
       "    </tr>\n",
       "  </tbody>\n",
       "</table>\n",
       "</div>"
      ],
      "text/plain": [
       "Sex      female  male   All\n",
       "has_age                    \n",
       "0            78   185   263\n",
       "1           388   658  1046\n",
       "All         466   843  1309"
      ]
     },
     "execution_count": 50,
     "metadata": {},
     "output_type": "execute_result"
    },
    {
     "data": {
      "image/png": "[encoded data removed]",
      "text/plain": [
       "<Figure size 1080x288 with 2 Axes>"
      ]
     },
     "metadata": {
      "needs_background": "light"
     },
     "output_type": "display_data"
    }
   ],
   "source": [
    "# 查看年齡資訊\n",
    "data['has_age'] = data['Age'].isnull().map(lambda x: 0 if x==True  else 1 )\n",
    "# display(data['has_age'])\n",
    "fig, [ax1,ax2] = plt.subplots(1,2)\n",
    "fig.set_figwidth(15)\n",
    "ax1 = sns.countplot(x=data['Pclass'], hue=data['has_age'],ax=ax1)\n",
    "ax2 = sns.countplot(x=data['Sex'], hue=data['has_age'], ax=ax2)\n",
    "pd.crosstab(data['has_age'], data['Sex'], margins=True)\n",
    "\n",
    "# 第三艙沒有年齡數量多，可能數據預測失真\n",
    "# 男性沒有年齡數量多，加入年齡可能預測更準(ex.男性小孩存活>男性成人存活)"
   ]
  },
  {
   "cell_type": "code",
   "execution_count": 51,
   "metadata": {},
   "outputs": [
    {
     "data": {
      "text/plain": [
       "<matplotlib.axes._subplots.AxesSubplot at 0x26f47132860>"
      ]
     },
     "execution_count": 51,
     "metadata": {},
     "output_type": "execute_result"
    },
    {
     "data": {
      "image/png": "[encoded data removed]",
      "text/plain": [
       "<Figure size 720x288 with 1 Axes>"
      ]
     },
     "metadata": {
      "needs_background": "light"
     },
     "output_type": "display_data"
    }
   ],
   "source": [
    "# 看存活和年齡間的關係\n",
    "# 生存且非第三艙\n",
    "hue_survived = data.loc[ ((data['Pclass']!=3) & (data['has_age']==1) & (data['Survived']==1)),'Age' ]\n",
    "hue_dead = data.loc[ ((data['Pclass']!=3) & (data['has_age']==1) & (data['Survived']==0)),'Age' ]\n",
    "\n",
    "# display(hue_survived)\n",
    "fig, ax1 = plt.subplots(1,1)\n",
    "fig.set_figwidth(10)\n",
    "sns.distplot(hue_survived,kde=False,bins=20,ax=ax1)\n",
    "sns.distplot(hue_dead,kde=False,bins=20,ax=ax1)\n",
    "\n",
    "# 16歲以下年齡影響生存機率很大"
   ]
  },
  {
   "cell_type": "code",
   "execution_count": 52,
   "metadata": {},
   "outputs": [
    {
     "data": {
      "text/plain": [
       "title\n",
       "Master     4.0\n",
       "Miss      22.0\n",
       "Mr        29.0\n",
       "Mrs       36.0\n",
       "Rare      47.0\n",
       "Name: Age, dtype: float64"
      ]
     },
     "execution_count": 52,
     "metadata": {},
     "output_type": "execute_result"
    }
   ],
   "source": [
    "data['title'] = data['Name'].str.extract(pat = '([A-Z][a-z]+)\\.',expand=False)\n",
    "\n",
    "title1 = ['Capt','Col','Countess','Don','Dr','Dona','Jonkheer','Major','Rev','Sir']\n",
    "title2 = ['Mlle','Ms','Mme'] \n",
    "title3 = ['Lady']\n",
    "\n",
    "data['title'] = data['title'].replace(title1,'Rare')\n",
    "data['title'] = data['title'].replace(title2,'Miss')\n",
    "data['title'] = data['title'].replace(title3,'Mrs')\n",
    "\n",
    "# display(data['Title'])\n",
    "\n",
    "title_dict = dict()\n",
    "title_dict = {'Mr':0,'Mrs':1,'Miss':2,'Master':3,'Rare':4}\n",
    "data['title_code'] = 0\n",
    "\n",
    "\n",
    "for i in range(len(data['title'])):\n",
    "    data['title_code'].iloc[i] = title_dict[data['title'].iloc[i]]\n",
    "    \n",
    "data.groupby('title')['Age'].median()\n",
    "\n",
    "# display(data.title_code.head(20))\n",
    "# display(data['Title'].unique())"
   ]
  },
  {
   "cell_type": "code",
   "execution_count": 53,
   "metadata": {},
   "outputs": [],
   "source": [
    "# 建立頭銜對應年齡中位數的dict\n",
    "age_fill = dict()\n",
    "key = list(data.groupby('title')['Age'].groups.keys())\n",
    "value = data.groupby('title')['Age'].median().values\n",
    "for i in range(len(key)):\n",
    "    age_fill[key[i]] = value[i]\n",
    "# display(age_fill)\n",
    "    \n",
    "# 保留原本的年齡特徵不動\n",
    "data['title_age'] = data['Age']\n",
    "\n",
    "for i in range(len(data)):\n",
    "    if pd.isna(data.iloc[i]['Age']):\n",
    "        title = data.iloc[i]['title']\n",
    "        data['title_age'].iloc[i] = age_fill[title]\n",
    "    \n",
    "    \n",
    "data['title_age'].describe()  \n",
    "# display(data['title_age'].head(20))\n",
    "data['title_age'] = data['title_age'].astype(int)\n",
    "data['young'] = ((data['title_age'])<16)*1\n",
    "# display(data['young'].head(20))"
   ]
  },
  {
   "cell_type": "code",
   "execution_count": 54,
   "metadata": {},
   "outputs": [
    {
     "name": "stdout",
     "output_type": "stream",
     "text": [
      "age oob score = 0.8418\n"
     ]
    }
   ],
   "source": [
    "x_train = data[:len(train)]\n",
    "x_test = data[len(train):]\n",
    "y = x_train['Survived']\n",
    "x_train = x_train.drop(labels=['Survived','PassengerId'],axis=1)\n",
    "\n",
    "age = ['Sex_code', 'Pclass', 'Fare_Code_5', 'connect_survived', 'young']\n",
    "\n",
    "age_model = RandomForestClassifier(random_state=2, n_estimators=250, min_samples_split=20, oob_score=True)\n",
    "age_model.fit(x_train[age], y)\n",
    "ans_age = age_model.predict(x_test[age])\n",
    "print('age oob score = {}'.format(age_model.oob_score_.round(4)))\n",
    "\n",
    "ans_age = ans_age.astype(int) \n",
    "pd.DataFrame({'PassengerId':test.PassengerId, 'Survived':ans_age}).set_index('PassengerId').to_csv('./result/sexcode_pclass_fareb5_connect_age.csv')\n",
    "\n",
    "\n"
   ]
  },
  {
   "cell_type": "code",
   "execution_count": null,
   "metadata": {},
   "outputs": [],
   "source": []
  },
  {
   "cell_type": "code",
   "execution_count": null,
   "metadata": {},
   "outputs": [],
   "source": []
  },
  {
   "cell_type": "code",
   "execution_count": null,
   "metadata": {},
   "outputs": [],
   "source": []
  },
  {
   "cell_type": "code",
   "execution_count": null,
   "metadata": {},
   "outputs": [],
   "source": []
  }
 ],
 "metadata": {
  "kernelspec": {
   "display_name": "Python 3",
   "language": "python",
   "name": "python3"
  },
  "language_info": {
   "codemirror_mode": {
    "name": "ipython",
    "version": 3
   },
   "file_extension": ".py",
   "mimetype": "text/x-python",
   "name": "python",
   "nbconvert_exporter": "python",
   "pygments_lexer": "ipython3",
   "version": "3.7.3"
  }
 },
 "nbformat": 4,
 "nbformat_minor": 2
}
